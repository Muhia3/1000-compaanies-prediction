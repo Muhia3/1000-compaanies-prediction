{
 "cells": [
  {
   "cell_type": "markdown",
   "id": "01418f3e",
   "metadata": {},
   "source": [
    "# multiple regression ex 1000 comapanies"
   ]
  },
  {
   "cell_type": "markdown",
   "id": "be7c1976",
   "metadata": {},
   "source": [
    "# importing libraries"
   ]
  },
  {
   "cell_type": "code",
   "execution_count": null,
   "id": "1512ef4b",
   "metadata": {},
   "outputs": [],
   "source": [
    "!pip install --upgrade inline"
   ]
  },
  {
   "cell_type": "code",
   "execution_count": null,
   "id": "18fbb900",
   "metadata": {},
   "outputs": [],
   "source": [
    "# importing of  the libraries \n",
    "\n",
    "import numpy as np\n",
    "import pandas as pd\n",
    "import matplotlib.pyplot as plt\n",
    "import seaborn as sns\n",
    "%matplotlib inline\n",
    "\n",
    "print(\"All libraries loading\")"
   ]
  },
  {
   "cell_type": "markdown",
   "id": "3c455c2a",
   "metadata": {},
   "source": [
    "# load dataset"
   ]
  },
  {
   "cell_type": "code",
   "execution_count": null,
   "id": "95dbd11a",
   "metadata": {},
   "outputs": [],
   "source": [
    "companies = pd.read_csv('companies.csv')\n"
   ]
  },
  {
   "cell_type": "code",
   "execution_count": null,
   "id": "6faea54b",
   "metadata": {},
   "outputs": [],
   "source": [
    "companies.head()"
   ]
  },
  {
   "cell_type": "code",
   "execution_count": null,
   "id": "992b83f5",
   "metadata": {},
   "outputs": [],
   "source": [
    "companies.tail()"
   ]
  },
  {
   "cell_type": "code",
   "execution_count": null,
   "id": "74cb4f55",
   "metadata": {},
   "outputs": [],
   "source": [
    "x = companies.iloc[:, 0:4]\n",
    "y = companies.iloc[:, 4]\n",
    "\n",
    "#asssigning last column to be y and the rest are the predictor vaariables"
   ]
  },
  {
   "cell_type": "code",
   "execution_count": null,
   "id": "319aea09",
   "metadata": {},
   "outputs": [],
   "source": [
    "companies.isnull"
   ]
  },
  {
   "cell_type": "code",
   "execution_count": null,
   "id": "b8d2efc7",
   "metadata": {},
   "outputs": [],
   "source": [
    "companies.isnull().sum()"
   ]
  },
  {
   "cell_type": "code",
   "execution_count": null,
   "id": "554106ac",
   "metadata": {},
   "outputs": [],
   "source": [
    "companies.desrcibe()"
   ]
  },
  {
   "cell_type": "code",
   "execution_count": null,
   "id": "d6c4466c",
   "metadata": {},
   "outputs": [],
   "source": [
    "companies.corr()"
   ]
  },
  {
   "cell_type": "code",
   "execution_count": null,
   "id": "349438e3",
   "metadata": {},
   "outputs": [],
   "source": [
    "companies.cov()"
   ]
  },
  {
   "cell_type": "code",
   "execution_count": null,
   "id": "e38c86d7",
   "metadata": {},
   "outputs": [],
   "source": [
    "def drop_outliers(train,columns):\n",
    "    iqr=1.5*(np.percentile(train[columns],75) - np.percentile(companies[columns],25))\n",
    "    companies.drop(companies[companies[columns]>(iqr+np.percentile(companies[columns],75))].index,inplace=True)\n",
    "    companies.drop(companies[companies[columns]<(np.percentile(companies[columns],25)-iqr)].index,inplace=True)\n",
    "drop_outliers(companies,\"Profit\")\n"
   ]
  },
  {
   "cell_type": "code",
   "execution_count": null,
   "id": "3074c9a9",
   "metadata": {},
   "outputs": [],
   "source": [
    "sns.boxplot(x=\"Profit\",data=companies,palette='rainbow')"
   ]
  },
  {
   "cell_type": "code",
   "execution_count": null,
   "id": "686395bf",
   "metadata": {},
   "outputs": [],
   "source": [
    "drop_outliers(companies,\"Administration\")\n",
    "sns.boxplot(x=\"Administration\",data=companies,palette='rainbow')"
   ]
  },
  {
   "cell_type": "code",
   "execution_count": null,
   "id": "087dc698",
   "metadata": {},
   "outputs": [],
   "source": [
    "plt.figure(figsize=(12,7))\n",
    "sns.boxplot(data=companies,palette='rainbow')"
   ]
  },
  {
   "cell_type": "code",
   "execution_count": null,
   "id": "9ca5e78f",
   "metadata": {},
   "outputs": [],
   "source": []
  },
  {
   "cell_type": "code",
   "execution_count": null,
   "id": "5aabf526",
   "metadata": {},
   "outputs": [],
   "source": [
    "X=companies.drop(['Profit'],axis=1)\n",
    "Y=companies['Profit']"
   ]
  },
  {
   "cell_type": "code",
   "execution_count": null,
   "id": "493ab527",
   "metadata": {},
   "outputs": [],
   "source": [
    "from sklearn.model_selection import train_test_split\n",
    "train_set_x,test_set_x,train_set_y,test_set_y=train_test_split(X,Y,test_size=0.3,random_state=2)"
   ]
  },
  {
   "cell_type": "code",
   "execution_count": null,
   "id": "cee5ac8c",
   "metadata": {},
   "outputs": [],
   "source": [
    "from sklearn.linear_model import LinearRegression\n",
    "regr=LinearRegression()\n",
    "regr.fit(train_set_x,train_set_y)"
   ]
  },
  {
   "cell_type": "code",
   "execution_count": null,
   "id": "a47432cf",
   "metadata": {},
   "outputs": [],
   "source": [
    "from sklearn import linear_model\n",
    "regr=linear_model.LinearRegression()\n",
    "regr.fit(train_set_x,train_set_y)"
   ]
  },
  {
   "cell_type": "code",
   "execution_count": null,
   "id": "aed4fc6b",
   "metadata": {},
   "outputs": [],
   "source": []
  },
  {
   "cell_type": "code",
   "execution_count": null,
   "id": "05a349ce",
   "metadata": {},
   "outputs": [],
   "source": []
  }
 ],
 "metadata": {
  "kernelspec": {
   "display_name": "Python 3 (ipykernel)",
   "language": "python",
   "name": "python3"
  },
  "language_info": {
   "codemirror_mode": {
    "name": "ipython",
    "version": 3
   },
   "file_extension": ".py",
   "mimetype": "text/x-python",
   "name": "python",
   "nbconvert_exporter": "python",
   "pygments_lexer": "ipython3",
   "version": "3.9.12"
  }
 },
 "nbformat": 4,
 "nbformat_minor": 5
}
