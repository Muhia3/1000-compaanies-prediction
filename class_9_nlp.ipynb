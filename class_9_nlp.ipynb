{
  "nbformat": 4,
  "nbformat_minor": 0,
  "metadata": {
    "colab": {
      "provenance": [],
      "authorship_tag": "ABX9TyPXbVYrBabcax/CD1JN5cH5",
      "include_colab_link": true
    },
    "kernelspec": {
      "name": "python3",
      "display_name": "Python 3"
    },
    "language_info": {
      "name": "python"
    }
  },
  "cells": [
    {
      "cell_type": "markdown",
      "metadata": {
        "id": "view-in-github",
        "colab_type": "text"
      },
      "source": [
        "<a href=\"https://colab.research.google.com/github/Muhia3/1000-compaanies-prediction/blob/main/class_9_nlp.ipynb\" target=\"_parent\"><img src=\"https://colab.research.google.com/assets/colab-badge.svg\" alt=\"Open In Colab\"/></a>"
      ]
    },
    {
      "cell_type": "code",
      "execution_count": 3,
      "metadata": {
        "colab": {
          "base_uri": "https://localhost:8080/"
        },
        "id": "FuxiZ_JIiNAy",
        "outputId": "92f7e816-0d2c-47f2-cdec-ef5ca99da3d7"
      },
      "outputs": [
        {
          "output_type": "stream",
          "name": "stderr",
          "text": [
            "[nltk_data] Downloading package vader_lexicon to /root/nltk_data...\n",
            "[nltk_data]   Package vader_lexicon is already up-to-date!\n"
          ]
        },
        {
          "output_type": "execute_result",
          "data": {
            "text/plain": [
              "True"
            ]
          },
          "metadata": {},
          "execution_count": 3
        }
      ],
      "source": [
        "import nltk\n",
        "from nltk.sentiment import SentimentIntensityAnalyzer\n",
        "#Then dowload the data\n",
        "\n",
        "nltk.download('vader_lexicon')"
      ]
    },
    {
      "cell_type": "markdown",
      "source": [
        "\n",
        "*Create a sentiment analyser*\n",
        "\n"
      ],
      "metadata": {
        "id": "1vQ-lD3DinRs"
      }
    },
    {
      "cell_type": "code",
      "source": [
        "sia = SentimentIntensityAnalyzer()"
      ],
      "metadata": {
        "id": "EbLA4-2tihep"
      },
      "execution_count": 2,
      "outputs": []
    },
    {
      "cell_type": "code",
      "source": [
        "#A sample sentense\n",
        "text = \"I love learning about nlp, it's so exciting and useeful!\""
      ],
      "metadata": {
        "id": "zE7v5l84jJRm"
      },
      "execution_count": 5,
      "outputs": []
    },
    {
      "cell_type": "code",
      "source": [
        "score = sia.polarity_scores(text)"
      ],
      "metadata": {
        "id": "Nrs4qHl1jraN"
      },
      "execution_count": 7,
      "outputs": []
    },
    {
      "cell_type": "code",
      "source": [
        "#Analyse the sentence\n",
        "print(\"sentiment score: \", score)"
      ],
      "metadata": {
        "colab": {
          "base_uri": "https://localhost:8080/"
        },
        "id": "9XmJBSMFjWlU",
        "outputId": "1a12d46e-b0b4-4fd1-b58b-d77f967f05f8"
      },
      "execution_count": 8,
      "outputs": [
        {
          "output_type": "stream",
          "name": "stdout",
          "text": [
            "sentiment score:  {'neg': 0.0, 'neu': 0.448, 'pos': 0.552, 'compound': 0.8627}\n"
          ]
        }
      ]
    },
    {
      "cell_type": "code",
      "source": [
        "text2= \"I hate manchester united, the funs suck and players are just pure jokers\"\n",
        "score2 = sia.polarity_scores(text2)\n",
        "print(\"sentiment score of your man u view: \", score2)"
      ],
      "metadata": {
        "colab": {
          "base_uri": "https://localhost:8080/"
        },
        "id": "QPu20Iqek30z",
        "outputId": "beb6f7d0-f497-4c5f-a92d-5f40db69c7f2"
      },
      "execution_count": 13,
      "outputs": [
        {
          "output_type": "stream",
          "name": "stdout",
          "text": [
            "sentiment score of your man u view:  {'neg': 0.359, 'neu': 0.489, 'pos': 0.152, 'compound': -0.5859}\n"
          ]
        }
      ]
    },
    {
      "cell_type": "markdown",
      "source": [
        "Simple logic to classify sentiment"
      ],
      "metadata": {
        "id": "eKGbRJM5mC4H"
      }
    },
    {
      "cell_type": "code",
      "source": [
        "if score[\"compound\"]>0:\n",
        "  print(\"This sentene is positive 😊\")\n",
        "elif score[\"compound\"]<0:\n",
        "  print(\"This sentene is negative 😑\")\n",
        "else:\n",
        "  print(\"This sentene is neutral 😐\")"
      ],
      "metadata": {
        "colab": {
          "base_uri": "https://localhost:8080/"
        },
        "id": "ErTOvNdblXNG",
        "outputId": "693a5b58-0c50-4bdd-c5b4-52aba10d8d70"
      },
      "execution_count": 16,
      "outputs": [
        {
          "output_type": "stream",
          "name": "stdout",
          "text": [
            "This sentene is positive 😊\n"
          ]
        }
      ]
    },
    {
      "cell_type": "code",
      "source": [
        "if score2[\"compound\"]>0:\n",
        "  print(\"This sentene is positive 😊\")\n",
        "elif score2[\"compound\"]<0:\n",
        "  print(\"This sentene is negative 😑\")\n",
        "else:\n",
        "  print(\"This sentene is neutral 😐\")"
      ],
      "metadata": {
        "colab": {
          "base_uri": "https://localhost:8080/"
        },
        "id": "PSMEXY5PnP0y",
        "outputId": "f8005491-a6dc-43cb-86f8-75ff07602508"
      },
      "execution_count": 17,
      "outputs": [
        {
          "output_type": "stream",
          "name": "stdout",
          "text": [
            "This sentene is negative 😑\n"
          ]
        }
      ]
    }
  ]
}